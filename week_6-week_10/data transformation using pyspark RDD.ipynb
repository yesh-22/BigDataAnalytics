{
 "cells": [
  {
   "cell_type": "code",
   "execution_count": 1,
   "id": "85406791-833a-4a28-bcd9-7d0417bdf960",
   "metadata": {},
   "outputs": [
    {
     "data": {
      "text/html": [
       "\n",
       "        <div>\n",
       "            <p><b>SparkContext</b></p>\n",
       "\n",
       "            <p><a href=\"http://Bhavani.mshome.net:4040\">Spark UI</a></p>\n",
       "\n",
       "            <dl>\n",
       "              <dt>Version</dt>\n",
       "                <dd><code>v4.0.1</code></dd>\n",
       "              <dt>Master</dt>\n",
       "                <dd><code>local[*]</code></dd>\n",
       "              <dt>AppName</dt>\n",
       "                <dd><code>PySparkShell</code></dd>\n",
       "            </dl>\n",
       "        </div>\n",
       "        "
      ],
      "text/plain": [
       "<SparkContext master=local[*] appName=PySparkShell>"
      ]
     },
     "execution_count": 1,
     "metadata": {},
     "output_type": "execute_result"
    }
   ],
   "source": [
    "sc"
   ]
  },
  {
   "cell_type": "code",
   "execution_count": 2,
   "id": "646a40a1-eef9-4e83-b6b5-7d24876604b7",
   "metadata": {},
   "outputs": [],
   "source": [
    "import random"
   ]
  },
  {
   "cell_type": "code",
   "execution_count": 3,
   "id": "c943fe94-b2a4-40c2-a319-3251be189c74",
   "metadata": {},
   "outputs": [
    {
     "name": "stdout",
     "output_type": "stream",
     "text": [
      "Original List:\n",
      "[196, 316, 705, 284, 427, 864, 700, 53, 815, 68, 755, 824, 431, 245, 68, 168, 905, 722, 523, 482, 659, 86, 316, 238, 86, 78, 986, 54, 213, 501, 514, 574, 82, 823, 54, 311, 6, 52, 451, 862, 540, 749, 672, 603, 897, 517, 42, 793, 166, 388, 980, 12, 40, 651, 444, 470, 547, 897, 899, 249, 662, 876, 588, 392, 642, 252, 479, 276, 406, 979, 769, 806, 591, 971, 564, 337, 539, 690, 774, 174, 53, 959, 574, 235, 916, 682, 40, 376, 255, 33, 79, 484, 80, 925, 545, 954, 979, 679, 232, 351]\n",
      "\n",
      "Even Numbers:\n",
      "[196, 316, 284, 864, 700, 68, 824, 68, 168, 722, 482, 86, 316, 238, 86, 78, 986, 54, 514, 574, 82, 54, 6, 52, 862, 540, 672, 42, 166, 388, 980, 12, 40, 444, 470, 662, 876, 588, 392, 642, 252, 276, 406, 806, 564, 690, 774, 174, 574, 916, 682, 40, 376, 484, 80, 954, 232]\n"
     ]
    }
   ],
   "source": [
    "\n",
    "from pyspark import SparkContext, SparkConf\n",
    "\n",
    "# Initialize Spark (if not already done)\n",
    "conf = SparkConf().setAppName(\"EvenNumbers\").setMaster(\"local[*]\")\n",
    "sc = SparkContext.getOrCreate(conf)\n",
    "\n",
    "# Generate random numbers\n",
    "random_numbers = [random.randint(1, 1000) for _ in range(100)]\n",
    "print(\"Original List:\")\n",
    "print(random_numbers)\n",
    "\n",
    "# Parallelize into RDD\n",
    "numbers_rdd = sc.parallelize(random_numbers)\n",
    "\n",
    "# Filter even numbers\n",
    "even_numbers_rdd = numbers_rdd.filter(lambda x: x % 2 == 0)\n",
    "even_numbers = even_numbers_rdd.collect()\n",
    "\n",
    "print(\"\\nEven Numbers:\")\n",
    "print(even_numbers)\n"
   ]
  },
  {
   "cell_type": "code",
   "execution_count": null,
   "id": "5caeaf80-5023-4bf8-9aaf-4fe8ba4a1da7",
   "metadata": {},
   "outputs": [],
   "source": []
  }
 ],
 "metadata": {
  "kernelspec": {
   "display_name": "python310",
   "language": "python",
   "name": "python310"
  },
  "language_info": {
   "codemirror_mode": {
    "name": "ipython",
    "version": 3
   },
   "file_extension": ".py",
   "mimetype": "text/x-python",
   "name": "python",
   "nbconvert_exporter": "python",
   "pygments_lexer": "ipython3",
   "version": "3.10.0"
  }
 },
 "nbformat": 4,
 "nbformat_minor": 5
}
