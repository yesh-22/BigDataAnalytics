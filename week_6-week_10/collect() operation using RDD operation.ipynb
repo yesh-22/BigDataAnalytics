{
 "cells": [
  {
   "cell_type": "code",
   "execution_count": 5,
   "id": "03a6854f-eea4-4be2-a5d7-14099183f99a",
   "metadata": {},
   "outputs": [
    {
     "name": "stdout",
     "output_type": "stream",
     "text": [
      "=== Student Dataset (first 10 rows) ===\n",
      "['1', 'Alice', '20', 'F', '66', '92', '44']\n",
      "['2', 'Bob', '20', 'M', '82', '52', '77']\n",
      "['3', 'Charlie', '22', 'F', '43', '57', '76']\n",
      "['4', 'David', '19', 'M', '95', '69', '46']\n",
      "['5', 'Eva', '19', 'F', '62', '44', '96']\n",
      "['6', 'Frank', '22', 'F', '70', '78', '94']\n",
      "['7', 'Grace', '24', 'F', '67', '66', '93']\n",
      "['8', 'Henry', '21', 'F', '53', '82', '60']\n",
      "['9', 'Ivy', '19', 'M', '64', '52', '46']\n",
      "['10', 'Jack', '19', 'F', '44', '59', '60']\n",
      "=== Students with Average >= 75 ===\n",
      "Name: Leo, Avg Marks: 88.00\n",
      "Name: Olivia, Avg Marks: 88.00\n",
      "Name: Rita, Avg Marks: 86.67\n",
      "Name: Kathy, Avg Marks: 81.67\n",
      "Name: George, Avg Marks: 81.67\n",
      "Name: Frank, Avg Marks: 80.67\n",
      "Name: Oscar, Avg Marks: 80.00\n",
      "Name: Uma, Avg Marks: 78.33\n",
      "Name: Kyle, Avg Marks: 78.33\n",
      "Name: Matt, Avg Marks: 78.33\n",
      "Name: Tina, Avg Marks: 76.00\n",
      "Name: Victor, Avg Marks: 75.67\n",
      "Name: Grace, Avg Marks: 75.33\n",
      "Name: Mona, Avg Marks: 75.00\n",
      "Name: Will, Avg Marks: 75.00\n",
      "\n",
      "Number of students who passed: 15\n",
      "Topper: ('Olivia', 88.0)\n",
      "\n",
      "First 5 Passed Students (via take):\n",
      "[('Frank', 80.66666666666667), ('Grace', 75.33333333333333), ('Kathy', 81.66666666666667), ('Leo', 88.0), ('Mona', 75.0)]\n"
     ]
    }
   ],
   "source": [
    "from pyspark import SparkContext\n",
    "\n",
    "# Initialize SparkContext\n",
    "\n",
    "# Load CSV file (make sure students.csv is in your working directory)\n",
    "data = sc.textFile(\"students.csv\")\n",
    "\n",
    "# Step 1: Remove header\n",
    "header = data.first()\n",
    "rows = data.filter(lambda line: line != header)\n",
    "\n",
    "# Step 2: Split by comma\n",
    "split_rdd = rows.map(lambda line: line.split(\",\"))\n",
    "\n",
    "print(\"=== Student Dataset (first 10 rows) ===\")\n",
    "for row in split_rdd.take(10):   # you can change 10 → 20, 50 etc.\n",
    "    print(row)\n",
    "\n",
    "# Step 3: Convert fields into structured format\n",
    "# (id, name, age, gender, math, science, english)\n",
    "students_rdd = split_rdd.map(lambda x: (\n",
    "    int(x[0]), x[1], int(x[2]), x[3], int(x[4]), int(x[5]), int(x[6])\n",
    "))\n",
    "\n",
    "# Step 4: Calculate average marks for each student\n",
    "avg_marks_rdd = students_rdd.map(lambda x: (x[1], (x[4] + x[5] + x[6]) / 3))\n",
    "\n",
    "# Step 5: Filter students who scored avg >= 75\n",
    "passed_rdd = avg_marks_rdd.filter(lambda x: x[1] >= 75)\n",
    "\n",
    "# Step 6: Sort students by avg marks (descending)\n",
    "sorted_passed_rdd = passed_rdd.sortBy(lambda x: x[1], ascending=False)\n",
    "\n",
    "# Step 7: Collect results to driver\n",
    "results = sorted_passed_rdd.collect()\n",
    "\n",
    "print(\"=== Students with Average >= 75 ===\")\n",
    "for student in results:\n",
    "    print(f\"Name: {student[0]}, Avg Marks: {student[1]:.2f}\")\n",
    "\n",
    "# Step 8: Extra RDD operations\n",
    "# (a) Count how many students passed\n",
    "count_passed = passed_rdd.count()\n",
    "print(\"\\nNumber of students who passed:\", count_passed)\n",
    "\n",
    "# (b) Find max average scorer\n",
    "topper = passed_rdd.reduce(lambda a, b: a if a[1] > b[1] else b)\n",
    "print(\"Topper:\", topper)\n",
    "\n",
    "# (c) Show first 5 passed students\n",
    "print(\"\\nFirst 5 Passed Students (via take):\")\n",
    "print(passed_rdd.take(5))\n",
    "\n",
    "# Stop SparkContext\n",
    "# sc.stop()\n"
   ]
  },
  {
   "cell_type": "code",
   "execution_count": 2,
   "id": "6a53c7ac-4238-4897-8d71-42b921b945d3",
   "metadata": {},
   "outputs": [
    {
     "data": {
      "text/html": [
       "\n",
       "        <div>\n",
       "            <p><b>SparkContext</b></p>\n",
       "\n",
       "            <p><a href=\"http://Bhavani.mshome.net:4041\">Spark UI</a></p>\n",
       "\n",
       "            <dl>\n",
       "              <dt>Version</dt>\n",
       "                <dd><code>v4.0.1</code></dd>\n",
       "              <dt>Master</dt>\n",
       "                <dd><code>local[*]</code></dd>\n",
       "              <dt>AppName</dt>\n",
       "                <dd><code>PySparkShell</code></dd>\n",
       "            </dl>\n",
       "        </div>\n",
       "        "
      ],
      "text/plain": [
       "<SparkContext master=local[*] appName=PySparkShell>"
      ]
     },
     "execution_count": 2,
     "metadata": {},
     "output_type": "execute_result"
    }
   ],
   "source": [
    "sc"
   ]
  },
  {
   "cell_type": "code",
   "execution_count": null,
   "id": "4e4aed38-1a7a-44bf-b9cd-a84f3f6dfca7",
   "metadata": {},
   "outputs": [],
   "source": []
  }
 ],
 "metadata": {
  "kernelspec": {
   "display_name": "python310",
   "language": "python",
   "name": "python310"
  },
  "language_info": {
   "codemirror_mode": {
    "name": "ipython",
    "version": 3
   },
   "file_extension": ".py",
   "mimetype": "text/x-python",
   "name": "python",
   "nbconvert_exporter": "python",
   "pygments_lexer": "ipython3",
   "version": "3.10.0"
  }
 },
 "nbformat": 4,
 "nbformat_minor": 5
}
